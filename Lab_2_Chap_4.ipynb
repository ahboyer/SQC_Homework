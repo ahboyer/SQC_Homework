{
  "nbformat": 4,
  "nbformat_minor": 0,
  "metadata": {
    "colab": {
      "provenance": [],
      "collapsed_sections": []
    },
    "kernelspec": {
      "name": "python3",
      "display_name": "Python 3"
    },
    "language_info": {
      "name": "python"
    }
  },
  "cells": [
    {
      "cell_type": "markdown",
      "source": [
        "# **Homework Part 1 and 2**"
      ],
      "metadata": {
        "id": "Yl7GIqyjiTxi"
      }
    },
    {
      "cell_type": "code",
      "execution_count": 61,
      "metadata": {
        "colab": {
          "base_uri": "https://localhost:8080/"
        },
        "id": "rymFOgyvbxro",
        "outputId": "a6c97afe-bfd3-4576-c971-d1558f9b6437"
      },
      "outputs": [
        {
          "output_type": "stream",
          "name": "stdout",
          "text": [
            "Drive already mounted at /content/drive; to attempt to forcibly remount, call drive.mount(\"/content/drive\", force_remount=True).\n"
          ]
        }
      ],
      "source": [
        "from google.colab import drive\n",
        "drive.mount('/content/drive')\n",
        "import math\n",
        "import statistics\n",
        "import numpy as np\n",
        "import scipy.stats as stats\n",
        "import pandas as pd\n",
        "from statsmodels.stats import weightstats as stests\n",
        "import matplotlib.pyplot as plt"
      ]
    },
    {
      "cell_type": "code",
      "source": [
        "#the 2nd read option assume that the data file is rignt under your default google drive directory\n",
        "# the sep-',' argument in the read statement should be used in some cases if ; does not work\n",
        "data = pd.read_csv('drive/My Drive/Colab Notebooks/BUSHING DIAMETER 2 BATCHES.csv')\n",
        "data  "
      ],
      "metadata": {
        "id": "rXJ6DLhwb2fF"
      },
      "execution_count": null,
      "outputs": []
    },
    {
      "cell_type": "code",
      "source": [
        "mean1=np.mean(data['Batch 1'])\n",
        "print(mean1)\n",
        "median1=np.median(data['Batch 1'])\n",
        "print(median1)\n",
        "std1=np.std(data['Batch 1'])\n",
        "print(std1)\n",
        "min1=np.min(data['Batch 1'])\n",
        "print(min1)\n",
        "max1=np.max(data['Batch 1'])\n",
        "print(max1)"
      ],
      "metadata": {
        "colab": {
          "base_uri": "https://localhost:8080/"
        },
        "id": "0APYQ00Sds6o",
        "outputId": "bae17cb6-5fd1-4ec0-9f77-f63dfd7744d7"
      },
      "execution_count": 63,
      "outputs": [
        {
          "output_type": "stream",
          "name": "stdout",
          "text": [
            "1.00335999734\n",
            "1.001000047\n",
            "0.007636115737477588\n",
            "0.985000014\n",
            "1.024999976\n"
          ]
        }
      ]
    },
    {
      "cell_type": "code",
      "source": [
        "mean2=np.mean(data['Batch 2'])\n",
        "print(mean2)\n",
        "median2=np.median(data['Batch 2'])\n",
        "print(median2)\n",
        "std2=np.std(data['Batch 2'])\n",
        "print(std2)\n",
        "min2=np.min(data['Batch 2'])\n",
        "print(min2)\n",
        "max2=np.max(data['Batch 2'])\n",
        "print(max2)"
      ],
      "metadata": {
        "colab": {
          "base_uri": "https://localhost:8080/"
        },
        "id": "L8UVoKMgfVDj",
        "outputId": "6e47c2b8-9abb-485c-e84a-fca9830db1e1"
      },
      "execution_count": 64,
      "outputs": [
        {
          "output_type": "stream",
          "name": "stdout",
          "text": [
            "1.00366000412\n",
            "1.004999995\n",
            "0.0071543258691635515\n",
            "0.99000001\n",
            "1.019000053\n"
          ]
        }
      ]
    },
    {
      "cell_type": "code",
      "source": [
        "CI_1 = stats.t.interval(0.99, df=49, loc=mean1, scale=std1)\n",
        "print(CI_1)\n",
        "CI_2 = stats.t.interval(0.99, df=49, loc=mean2, scale=std2)\n",
        "print(CI_2)"
      ],
      "metadata": {
        "colab": {
          "base_uri": "https://localhost:8080/"
        },
        "id": "xnv-Ot-laAc-",
        "outputId": "c871f84d-3ef0-41a1-ebd2-e9d348044c55"
      },
      "execution_count": 65,
      "outputs": [
        {
          "output_type": "stream",
          "name": "stdout",
          "text": [
            "(0.982895573898468, 1.0238244207815321)\n",
            "(0.9844867543869318, 1.022833253853068)\n"
          ]
        }
      ]
    },
    {
      "cell_type": "code",
      "source": [
        "data['Batch 1'].plot(kind='hist', bins=20)\n",
        "plt.show()"
      ],
      "metadata": {
        "colab": {
          "base_uri": "https://localhost:8080/",
          "height": 265
        },
        "id": "kEtX9x6SgI-J",
        "outputId": "ea3e65b6-2eb1-4e0b-f406-a656e0172040"
      },
      "execution_count": 66,
      "outputs": [
        {
          "output_type": "display_data",
          "data": {
            "text/plain": [
              "<Figure size 432x288 with 1 Axes>"
            ],
            "image/png": "[encoded data removed]"
          },
          "metadata": {
            "needs_background": "light"
          }
        }
      ]
    },
    {
      "cell_type": "code",
      "source": [
        "data['Batch 2'].plot(kind='hist', bins=20)\n",
        "plt.show()"
      ],
      "metadata": {
        "colab": {
          "base_uri": "https://localhost:8080/",
          "height": 265
        },
        "id": "t1XPbaIpgaHz",
        "outputId": "382caf90-3b6f-45a3-dea5-f6a5ba31dd4b"
      },
      "execution_count": 67,
      "outputs": [
        {
          "output_type": "display_data",
          "data": {
            "text/plain": [
              "<Figure size 432x288 with 1 Axes>"
            ],
            "image/png": "[encoded data removed]"
          },
          "metadata": {
            "needs_background": "light"
          }
        }
      ]
    },
    {
      "cell_type": "code",
      "source": [
        "plt.boxplot([data['Batch 1'], data['Batch 2']])"
      ],
      "metadata": {
        "colab": {
          "base_uri": "https://localhost:8080/",
          "height": 520
        },
        "id": "6J57RscTg8Hn",
        "outputId": "71819cf7-b7de-4e14-fdfa-3f0ce8ce071b"
      },
      "execution_count": 68,
      "outputs": [
        {
          "output_type": "execute_result",
          "data": {
            "text/plain": [
              "{'whiskers': [<matplotlib.lines.Line2D at 0x7f8e1f446e50>,\n",
              "  <matplotlib.lines.Line2D at 0x7f8e1f44c3d0>,\n",
              "  <matplotlib.lines.Line2D at 0x7f8e1f45b3d0>,\n",
              "  <matplotlib.lines.Line2D at 0x7f8e1f45b890>],\n",
              " 'caps': [<matplotlib.lines.Line2D at 0x7f8e1f44c910>,\n",
              "  <matplotlib.lines.Line2D at 0x7f8e1f44ce50>,\n",
              "  <matplotlib.lines.Line2D at 0x7f8e1f45bd90>,\n",
              "  <matplotlib.lines.Line2D at 0x7f8e1f3e32d0>],\n",
              " 'boxes': [<matplotlib.lines.Line2D at 0x7f8e1f446950>,\n",
              "  <matplotlib.lines.Line2D at 0x7f8e1f452e90>],\n",
              " 'medians': [<matplotlib.lines.Line2D at 0x7f8e1f452410>,\n",
              "  <matplotlib.lines.Line2D at 0x7f8e1f3e37d0>],\n",
              " 'fliers': [<matplotlib.lines.Line2D at 0x7f8e1f452950>,\n",
              "  <matplotlib.lines.Line2D at 0x7f8e1f3e3cd0>],\n",
              " 'means': []}"
            ]
          },
          "metadata": {},
          "execution_count": 68
        },
        {
          "output_type": "display_data",
          "data": {
            "text/plain": [
              "<Figure size 432x288 with 1 Axes>"
            ],
            "image/png": "[encoded data removed]"
          },
          "metadata": {
            "needs_background": "light"
          }
        }
      ]
    },
    {
      "cell_type": "code",
      "source": [
        "import seaborn as sns\n",
        "import scipy.stats as sc\n",
        "import statsmodels.graphics.gofplots as sm\n",
        "sample_size = 50 \n",
        "standard_norm = np.random.normal(size=sample_size)\n",
        "heavy_tailed_norm = np.random.normal(loc=0, scale=2, size=sample_size)\n",
        "skewed_norm = sc.skewnorm.rvs(a=5, size=sample_size)\n",
        "skew_left_norm = sc.skewnorm.rvs(a=-5, size=sample_size)\n",
        "fig, ax = plt.subplots(1, 2, figsize=(5, 3))\n",
        "sns.histplot(standard_norm,kde=True, color ='green',ax=ax[0])\n",
        "sm.ProbPlot(standard_norm).qqplot(line='s', ax=ax[1])"
      ],
      "metadata": {
        "colab": {
          "base_uri": "https://localhost:8080/",
          "height": 433
        },
        "id": "M8jBdYMAYNjN",
        "outputId": "97341e0a-4db1-4e88-b402-9732825ec900"
      },
      "execution_count": 69,
      "outputs": [
        {
          "output_type": "execute_result",
          "data": {
            "text/plain": [
              "<Figure size 360x216 with 2 Axes>"
            ],
            "image/png": "[encoded data removed]"
          },
          "metadata": {},
          "execution_count": 69
        },
        {
          "output_type": "display_data",
          "data": {
            "text/plain": [
              "<Figure size 360x216 with 2 Axes>"
            ],
            "image/png": "[encoded data removed]"
          },
          "metadata": {
            "needs_background": "light"
          }
        }
      ]
    },
    {
      "cell_type": "markdown",
      "source": [
        "From the data shown above, it appears that both samples are from the same population. We will test whether this is true. H0 = both samples are from the same population. H1 = both samples are not from the same population (H0 is false)."
      ],
      "metadata": {
        "id": "BRCCcnxyhQBv"
      }
    },
    {
      "cell_type": "code",
      "source": [
        "#F test for variances of two populations\n",
        "# the following function is user defined\n",
        "# define a F test\n",
        "Batch1 = data['Batch 1']\n",
        "Batch2 = data['Batch 2']\n",
        "def f_test(x,y):\n",
        "  x=np.array(x)\n",
        "  y=np.array(y)\n",
        "  f=np.var(x,ddof=1)/np.var(y, ddof=1) # cal F test statistic\n",
        "  dfn=x.size-1\n",
        "  dfd=y.size-1\n",
        "  p=1-stats.f.cdf(f,dfn, dfd) #find p-value of F test statistics\n",
        "  return f, p\n",
        "  \n",
        "\n",
        "f_test(Batch1, Batch2)"
      ],
      "metadata": {
        "colab": {
          "base_uri": "https://localhost:8080/"
        },
        "id": "IkPTUv1WilwL",
        "outputId": "41b9c3c3-0810-4061-904e-e95dc404a885"
      },
      "execution_count": 71,
      "outputs": [
        {
          "output_type": "execute_result",
          "data": {
            "text/plain": [
              "(1.1392199163691206, 0.32501448085544293)"
            ]
          },
          "metadata": {},
          "execution_count": 71
        }
      ]
    },
    {
      "cell_type": "code",
      "source": [
        "#two sample t-test 1: assume the variance is the same (default)\n",
        "\n",
        "stats.ttest_ind(Batch1, Batch2, equal_var=True)"
      ],
      "metadata": {
        "colab": {
          "base_uri": "https://localhost:8080/"
        },
        "id": "kHiEROQXm70H",
        "outputId": "66b52f23-592f-454e-bbfc-18cd70b2b6a8"
      },
      "execution_count": 72,
      "outputs": [
        {
          "output_type": "execute_result",
          "data": {
            "text/plain": [
              "Ttest_indResult(statistic=-0.20069320812014202, pvalue=0.8413543932394967)"
            ]
          },
          "metadata": {},
          "execution_count": 72
        }
      ]
    },
    {
      "cell_type": "markdown",
      "source": [
        "Since the p-value is greater than 0.05, we will fail to reject H0. Therefore, we conclude that both samples are from the same population."
      ],
      "metadata": {
        "id": "1Bk4i_bug5b8"
      }
    },
    {
      "cell_type": "markdown",
      "source": [
        "\n",
        "# **Homework Part 4: Chapter 4 Montgomery 7th Edition – Exercise 4.11**\n"
      ],
      "metadata": {
        "id": "Kmjkvv5-6A3f"
      }
    },
    {
      "cell_type": "code",
      "source": [
        "x = [13.3987, 13.3957, 13.3902, 13.4015, 13.4001, 13.3918, 13.3965, 13.3925, 13.3946, 13.4002]"
      ],
      "metadata": {
        "id": "oElEIN156CD3"
      },
      "execution_count": 73,
      "outputs": []
    },
    {
      "cell_type": "markdown",
      "source": [
        "H0 = mu equals 13.4 x 1000. H1 = mu does not equal 13.4 x 1000\n",
        "\n"
      ],
      "metadata": {
        "id": "L-g1bqPQjria"
      }
    },
    {
      "cell_type": "code",
      "source": [
        "meanx = np.mean(x)\n",
        "print('mean of x =',meanx)\n",
        "sigma = np.std(x, ddof = 1)\n",
        "print('standard deviation of x =',sigma)"
      ],
      "metadata": {
        "colab": {
          "base_uri": "https://localhost:8080/"
        },
        "id": "VakZIyUP6Xj-",
        "outputId": "419055a1-9c21-4a6f-dbfb-7c5487970386"
      },
      "execution_count": 74,
      "outputs": [
        {
          "output_type": "stream",
          "name": "stdout",
          "text": [
            "mean of x = 13.396180000000001\n",
            "standard deviation of x = 0.003908622945915024\n"
          ]
        }
      ]
    },
    {
      "cell_type": "code",
      "source": [
        "stats.ttest_1samp(x, 13.4)"
      ],
      "metadata": {
        "colab": {
          "base_uri": "https://localhost:8080/"
        },
        "id": "-0ypcokl67GV",
        "outputId": "f7cdfdf5-b1f3-4096-be8e-eeba16db6382"
      },
      "execution_count": 75,
      "outputs": [
        {
          "output_type": "execute_result",
          "data": {
            "text/plain": [
              "Ttest_1sampResult(statistic=-3.0905771237069133, pvalue=0.012917430540578496)"
            ]
          },
          "metadata": {},
          "execution_count": 75
        }
      ]
    },
    {
      "cell_type": "markdown",
      "source": [
        "Reject H0 because the p-value is less than 0.05."
      ],
      "metadata": {
        "id": "aKsseZIOk9Vf"
      }
    },
    {
      "cell_type": "code",
      "source": [
        "m = len(x)-1\n",
        "print(m)"
      ],
      "metadata": {
        "colab": {
          "base_uri": "https://localhost:8080/"
        },
        "id": "-0gGftfK9N9g",
        "outputId": "eefaa8a1-7c4a-4865-bf67-3c8894567093"
      },
      "execution_count": 76,
      "outputs": [
        {
          "output_type": "stream",
          "name": "stdout",
          "text": [
            "9\n"
          ]
        }
      ]
    },
    {
      "cell_type": "code",
      "source": [
        "stats.t.interval(0.99, df=m, loc=meanx, scale=sigma)"
      ],
      "metadata": {
        "colab": {
          "base_uri": "https://localhost:8080/"
        },
        "id": "Zsvxpm2J_VwV",
        "outputId": "451de79f-14bb-465e-9496-5394c878f567"
      },
      "execution_count": 77,
      "outputs": [
        {
          "output_type": "execute_result",
          "data": {
            "text/plain": [
              "(13.383477618222212, 13.40888238177779)"
            ]
          },
          "metadata": {},
          "execution_count": 77
        }
      ]
    },
    {
      "cell_type": "markdown",
      "source": [
        "The 99% two-sided confidence interval on\n",
        "mean photoresist thickness is (13.3834, 13.4088)."
      ],
      "metadata": {
        "id": "w310m2oymJL1"
      }
    },
    {
      "cell_type": "code",
      "source": [
        "a = np.array(x)\n",
        "fig, ax = plt.subplots(figsize = (5,3))\n",
        "ax.hist(a, bins = 10)"
      ],
      "metadata": {
        "colab": {
          "base_uri": "https://localhost:8080/",
          "height": 279
        },
        "id": "ayW6cBO3TwdC",
        "outputId": "8539aa38-6dc1-4d9f-a295-350da2533d21"
      },
      "execution_count": 81,
      "outputs": [
        {
          "output_type": "execute_result",
          "data": {
            "text/plain": [
              "(array([1., 1., 1., 1., 1., 1., 0., 1., 2., 1.]),\n",
              " array([13.3902 , 13.39133, 13.39246, 13.39359, 13.39472, 13.39585,\n",
              "        13.39698, 13.39811, 13.39924, 13.40037, 13.4015 ]),\n",
              " <a list of 10 Patch objects>)"
            ]
          },
          "metadata": {},
          "execution_count": 81
        },
        {
          "output_type": "display_data",
          "data": {
            "text/plain": [
              "<Figure size 360x216 with 1 Axes>"
            ],
            "image/png": "[encoded data removed]"
          },
          "metadata": {
            "needs_background": "light"
          }
        }
      ]
    },
    {
      "cell_type": "markdown",
      "source": [
        "It does not seem reasonable to assume normality because the sample size is less than 30. It is difficult to get a good description of data with less than 30 observations."
      ],
      "metadata": {
        "id": "CV5arKKnm4v7"
      }
    }
  ]
}